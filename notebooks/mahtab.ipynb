{
 "cells": [
  {
   "cell_type": "code",
   "execution_count": 1,
   "metadata": {},
   "outputs": [],
   "source": [
    "import matplotlib.pyplot as plt\n",
    "import pandas as pd\n",
    "import numpy as np\n",
    "from operator import itemgetter\n",
    "from scipy.stats import ttest_ind, ttest_ind_from_stats\n",
    "from scipy.special import stdtr\n",
    "import seaborn as sns\n",
    "import matplotlib.pyplot as plt\n",
    "from math import isnan\n",
    "#import plotly.tools as tls"
   ]
  },
  {
   "cell_type": "code",
   "execution_count": 5,
   "metadata": {},
   "outputs": [
    {
     "data": {
      "text/html": [
       "<div>\n",
       "<style scoped>\n",
       "    .dataframe tbody tr th:only-of-type {\n",
       "        vertical-align: middle;\n",
       "    }\n",
       "\n",
       "    .dataframe tbody tr th {\n",
       "        vertical-align: top;\n",
       "    }\n",
       "\n",
       "    .dataframe thead th {\n",
       "        text-align: right;\n",
       "    }\n",
       "</style>\n",
       "<table border=\"1\" class=\"dataframe\">\n",
       "  <thead>\n",
       "    <tr style=\"text-align: right;\">\n",
       "      <th></th>\n",
       "      <th>Rank</th>\n",
       "      <th>Title</th>\n",
       "      <th>Genre1</th>\n",
       "      <th>Genre2</th>\n",
       "      <th>Genre3</th>\n",
       "      <th>Director</th>\n",
       "      <th>Actors1</th>\n",
       "      <th>Actors2</th>\n",
       "      <th>Actors3</th>\n",
       "      <th>Actors4</th>\n",
       "      <th>Year</th>\n",
       "      <th>Runtime (Minutes)</th>\n",
       "      <th>Rating</th>\n",
       "      <th>Votes</th>\n",
       "      <th>Revenue (Millions)</th>\n",
       "      <th>Metascore</th>\n",
       "    </tr>\n",
       "  </thead>\n",
       "  <tbody>\n",
       "    <tr>\n",
       "      <th>0</th>\n",
       "      <td>1</td>\n",
       "      <td>Guardians of the Galaxy</td>\n",
       "      <td>Action</td>\n",
       "      <td>Adventure</td>\n",
       "      <td>Sci-Fi</td>\n",
       "      <td>James Gunn</td>\n",
       "      <td>Chris Pratt</td>\n",
       "      <td>Vin Diesel</td>\n",
       "      <td>Bradley Cooper</td>\n",
       "      <td>Zoe Saldana</td>\n",
       "      <td>2014</td>\n",
       "      <td>121</td>\n",
       "      <td>8.1</td>\n",
       "      <td>757074</td>\n",
       "      <td>333.13</td>\n",
       "      <td>76.0</td>\n",
       "    </tr>\n",
       "    <tr>\n",
       "      <th>1</th>\n",
       "      <td>2</td>\n",
       "      <td>Prometheus</td>\n",
       "      <td>Adventure</td>\n",
       "      <td>Mystery</td>\n",
       "      <td>Sci-Fi</td>\n",
       "      <td>Ridley Scott</td>\n",
       "      <td>Noomi Rapace</td>\n",
       "      <td>Logan Marshall-Green</td>\n",
       "      <td>Michael Fassbender</td>\n",
       "      <td>Charlize Theron</td>\n",
       "      <td>2012</td>\n",
       "      <td>124</td>\n",
       "      <td>7.0</td>\n",
       "      <td>485820</td>\n",
       "      <td>126.46</td>\n",
       "      <td>65.0</td>\n",
       "    </tr>\n",
       "    <tr>\n",
       "      <th>2</th>\n",
       "      <td>3</td>\n",
       "      <td>Split</td>\n",
       "      <td>Horror</td>\n",
       "      <td>Thriller</td>\n",
       "      <td>NaN</td>\n",
       "      <td>M. Night Shyamalan</td>\n",
       "      <td>James McAvoy</td>\n",
       "      <td>Anya Taylor-Joy</td>\n",
       "      <td>Haley Lu Richardson</td>\n",
       "      <td>Jessica Sula</td>\n",
       "      <td>2016</td>\n",
       "      <td>117</td>\n",
       "      <td>7.3</td>\n",
       "      <td>157606</td>\n",
       "      <td>138.12</td>\n",
       "      <td>62.0</td>\n",
       "    </tr>\n",
       "    <tr>\n",
       "      <th>3</th>\n",
       "      <td>4</td>\n",
       "      <td>Sing</td>\n",
       "      <td>Animation</td>\n",
       "      <td>Comedy</td>\n",
       "      <td>Family</td>\n",
       "      <td>Christophe Lourdelet</td>\n",
       "      <td>Matthew McConaughey</td>\n",
       "      <td>Reese Witherspoon</td>\n",
       "      <td>Seth MacFarlane</td>\n",
       "      <td>Scarlett Johansson</td>\n",
       "      <td>2016</td>\n",
       "      <td>108</td>\n",
       "      <td>7.2</td>\n",
       "      <td>60545</td>\n",
       "      <td>270.32</td>\n",
       "      <td>59.0</td>\n",
       "    </tr>\n",
       "    <tr>\n",
       "      <th>4</th>\n",
       "      <td>5</td>\n",
       "      <td>Suicide Squad</td>\n",
       "      <td>Action</td>\n",
       "      <td>Adventure</td>\n",
       "      <td>Fantasy</td>\n",
       "      <td>David Ayer</td>\n",
       "      <td>Will Smith</td>\n",
       "      <td>Jared Leto</td>\n",
       "      <td>Margot Robbie</td>\n",
       "      <td>Viola Davis</td>\n",
       "      <td>2016</td>\n",
       "      <td>123</td>\n",
       "      <td>6.2</td>\n",
       "      <td>393727</td>\n",
       "      <td>325.02</td>\n",
       "      <td>40.0</td>\n",
       "    </tr>\n",
       "  </tbody>\n",
       "</table>\n",
       "</div>"
      ],
      "text/plain": [
       "   Rank                    Title     Genre1     Genre2   Genre3  \\\n",
       "0     1  Guardians of the Galaxy     Action  Adventure   Sci-Fi   \n",
       "1     2               Prometheus  Adventure    Mystery   Sci-Fi   \n",
       "2     3                    Split     Horror   Thriller      NaN   \n",
       "3     4                     Sing  Animation     Comedy   Family   \n",
       "4     5            Suicide Squad     Action  Adventure  Fantasy   \n",
       "\n",
       "               Director              Actors1                Actors2  \\\n",
       "0            James Gunn          Chris Pratt             Vin Diesel   \n",
       "1          Ridley Scott         Noomi Rapace   Logan Marshall-Green   \n",
       "2    M. Night Shyamalan         James McAvoy        Anya Taylor-Joy   \n",
       "3  Christophe Lourdelet  Matthew McConaughey      Reese Witherspoon   \n",
       "4            David Ayer           Will Smith             Jared Leto   \n",
       "\n",
       "                Actors3              Actors4  Year  Runtime (Minutes)  Rating  \\\n",
       "0        Bradley Cooper          Zoe Saldana  2014                121     8.1   \n",
       "1    Michael Fassbender      Charlize Theron  2012                124     7.0   \n",
       "2   Haley Lu Richardson         Jessica Sula  2016                117     7.3   \n",
       "3       Seth MacFarlane   Scarlett Johansson  2016                108     7.2   \n",
       "4         Margot Robbie          Viola Davis  2016                123     6.2   \n",
       "\n",
       "    Votes  Revenue (Millions)  Metascore  \n",
       "0  757074              333.13       76.0  \n",
       "1  485820              126.46       65.0  \n",
       "2  157606              138.12       62.0  \n",
       "3   60545              270.32       59.0  \n",
       "4  393727              325.02       40.0  "
      ]
     },
     "execution_count": 5,
     "metadata": {},
     "output_type": "execute_result"
    }
   ],
   "source": [
    "data = pd.read_csv('imdb.csv')\n",
    "data.head()"
   ]
  },
  {
   "cell_type": "code",
   "execution_count": 49,
   "metadata": {},
   "outputs": [
    {
     "data": {
      "text/plain": [
       "Ridley Scott          8\n",
       "Michael Bay           6\n",
       "M. Night Shyamalan    6\n",
       "Paul W.S. Anderson    6\n",
       "David Yates           6\n",
       "Denis Villeneuve      5\n",
       "J.J. Abrams           5\n",
       "Martin Scorsese       5\n",
       "Danny Boyle           5\n",
       "Peter Berg            5\n",
       "Name: Director, dtype: int64"
      ]
     },
     "execution_count": 49,
     "metadata": {},
     "output_type": "execute_result"
    }
   ],
   "source": [
    "\n",
    "director_counts = data[\"Director\"].value_counts()\n",
    "director_counts\n",
    "top_ten = director_counts[0:10]\n",
    "top_ten"
   ]
  },
  {
   "cell_type": "code",
   "execution_count": 7,
   "metadata": {},
   "outputs": [
    {
     "data": {
      "text/plain": [
       "{'Action': 303,\n",
       " 'Adventure': 250,\n",
       " 'Horror': 95,\n",
       " 'Animation': 49,\n",
       " 'Comedy': 237,\n",
       " 'Biography': 79,\n",
       " 'Drama': 433,\n",
       " 'Crime': 129,\n",
       " 'Romance': 71,\n",
       " 'Mystery': 62,\n",
       " 'Thriller': 62,\n",
       " 'Sci-Fi': 31,\n",
       " 'Fantasy': 39,\n",
       " 'Family': 27,\n",
       " 'History': 8,\n",
       " 'Music': 8,\n",
       " 'Western': 2,\n",
       " 'War': 4,\n",
       " 'Musical': 1,\n",
       " 'Sport': 5}"
      ]
     },
     "execution_count": 7,
     "metadata": {},
     "output_type": "execute_result"
    }
   ],
   "source": [
    "Genre_play = {}\n",
    "\n",
    "for Genre_name in data['Genre1'].dropna():\n",
    "    if Genre_name not in Genre_play.keys():\n",
    "        Genre_play[Genre_name] = 1\n",
    "    else:\n",
    "        Genre_play[Genre_name] = Genre_play[Genre_name] + 1\n",
    "        \n",
    "for Genre_name in data['Genre2'].dropna():\n",
    "    if Genre_name not in Genre_play.keys():\n",
    "        Genre_play[Genre_name] = 1\n",
    "    else:\n",
    "        Genre_play[Genre_name] = Genre_play[Genre_name] + 1\n",
    "Genre_play"
   ]
  },
  {
   "cell_type": "code",
   "execution_count": 12,
   "metadata": {},
   "outputs": [
    {
     "data": {
      "text/plain": [
       "([<matplotlib.axis.XTick at 0x2b1fc7bd390>,\n",
       "  <matplotlib.axis.XTick at 0x2b1fc7babe0>,\n",
       "  <matplotlib.axis.XTick at 0x2b1fc7ba940>,\n",
       "  <matplotlib.axis.XTick at 0x2b1fc801b00>,\n",
       "  <matplotlib.axis.XTick at 0x2b1fc801c88>,\n",
       "  <matplotlib.axis.XTick at 0x2b1fc80b518>,\n",
       "  <matplotlib.axis.XTick at 0x2b1fc7da208>,\n",
       "  <matplotlib.axis.XTick at 0x2b1fc80bb70>,\n",
       "  <matplotlib.axis.XTick at 0x2b1fc8120b8>,\n",
       "  <matplotlib.axis.XTick at 0x2b1fc812550>,\n",
       "  <matplotlib.axis.XTick at 0x2b1fc812a58>,\n",
       "  <matplotlib.axis.XTick at 0x2b1fc812f60>,\n",
       "  <matplotlib.axis.XTick at 0x2b1fc81c4a8>,\n",
       "  <matplotlib.axis.XTick at 0x2b1fc81c9b0>,\n",
       "  <matplotlib.axis.XTick at 0x2b1fc81ceb8>,\n",
       "  <matplotlib.axis.XTick at 0x2b1fc81c978>,\n",
       "  <matplotlib.axis.XTick at 0x2b1fc812b38>,\n",
       "  <matplotlib.axis.XTick at 0x2b1fc8124a8>,\n",
       "  <matplotlib.axis.XTick at 0x2b1fc823898>,\n",
       "  <matplotlib.axis.XTick at 0x2b1fc823da0>],\n",
       " <a list of 20 Text xticklabel objects>)"
      ]
     },
     "execution_count": 12,
     "metadata": {},
     "output_type": "execute_result"
    },
    {
     "data": {
      "image/png": "[encoded data removed]",
      "text/plain": [
       "<Figure size 432x288 with 1 Axes>"
      ]
     },
     "metadata": {
      "needs_background": "light"
     },
     "output_type": "display_data"
    }
   ],
   "source": [
    "dictionary = plt.figure()\n",
    "\n",
    "plt.bar(range(len(Genre_play)), Genre_play.values(), alpha=0.8, align='center')\n",
    "plt.xticks(range(len(Genre_play)), Genre_play.keys(), rotation=\"vertical\")\n"
   ]
  },
  {
   "cell_type": "code",
   "execution_count": 68,
   "metadata": {},
   "outputs": [
    {
     "data": {
      "text/plain": [
       "{'Action': 303,\n",
       " 'Adventure': 250,\n",
       " 'Horror': 95,\n",
       " 'Animation': 49,\n",
       " 'Comedy': 237,\n",
       " 'Biography': 79,\n",
       " 'Drama': 433,\n",
       " 'Crime': 129,\n",
       " 'Romance': 71,\n",
       " 'Mystery': 62,\n",
       " 'Thriller': 62,\n",
       " 'Sci-Fi': 31,\n",
       " 'Fantasy': 39,\n",
       " nan: 105,\n",
       " 'Family': 27,\n",
       " 'History': 8,\n",
       " 'Music': 8,\n",
       " 'Western': 2,\n",
       " 'War': 4,\n",
       " 'Musical': 1,\n",
       " 'Sport': 5}"
      ]
     },
     "execution_count": 68,
     "metadata": {},
     "output_type": "execute_result"
    }
   ],
   "source": [
    "Genre_play\n",
    "#clean_genre = del Genre_play['nan']\n",
    "#clean_genre\n",
    "\n"
   ]
  },
  {
   "cell_type": "code",
   "execution_count": 53,
   "metadata": {},
   "outputs": [],
   "source": [
    "#plt.bar(sorted_by_play[0],height=sorted_by_play[1], color='r', alpha=0.5, align=\"center\")"
   ]
  },
  {
   "cell_type": "code",
   "execution_count": 54,
   "metadata": {},
   "outputs": [],
   "source": [
    "actor_play = {}\n",
    "\n",
    "for actor_name in data['Actors1']:\n",
    "    if actor_name not in actor_play.keys():\n",
    "        actor_play[actor_name] = 1\n",
    "    else:\n",
    "        actor_play[actor_name] = actor_play[actor_name] + 1\n",
    "        \n",
    "for actor_name in data['Actors2']:\n",
    "    if actor_name not in actor_play.keys():\n",
    "        actor_play[actor_name] = 1\n",
    "    else:\n",
    "        actor_play[actor_name] = actor_play[actor_name] + 1\n",
    "\n",
    "for actor_name in data['Actors3']:\n",
    "    if actor_name not in actor_play.keys():\n",
    "        actor_play[actor_name] = 1\n",
    "    else:\n",
    "        actor_play[actor_name] = actor_play[actor_name] + 1"
   ]
  },
  {
   "cell_type": "code",
   "execution_count": 55,
   "metadata": {},
   "outputs": [],
   "source": [
    "sorted_by_play = sorted(actor_play.items(), key=itemgetter(1), reverse=True)"
   ]
  },
  {
   "cell_type": "code",
   "execution_count": 56,
   "metadata": {},
   "outputs": [],
   "source": [
    "top_ten = sorted_by_play[0:10]"
   ]
  },
  {
   "cell_type": "code",
   "execution_count": 57,
   "metadata": {},
   "outputs": [
    {
     "data": {
      "text/plain": [
       "[('Christian Bale', 11),\n",
       " ('Mark Wahlberg', 11),\n",
       " ('Will Smith', 9),\n",
       " ('Denzel Washington', 9),\n",
       " ('Brad Pitt', 9),\n",
       " ('Leonardo DiCaprio', 9),\n",
       " ('Jake Gyllenhaal', 9),\n",
       " ('Adam Sandler', 9),\n",
       " ('Johnny Depp', 8),\n",
       " ('Tom Hanks', 8)]"
      ]
     },
     "execution_count": 57,
     "metadata": {},
     "output_type": "execute_result"
    }
   ],
   "source": [
    "top_ten"
   ]
  },
  {
   "cell_type": "code",
   "execution_count": 58,
   "metadata": {},
   "outputs": [
    {
     "data": {
      "text/plain": [
       "<matplotlib.axes._subplots.AxesSubplot at 0x1d33a9a69e8>"
      ]
     },
     "execution_count": 58,
     "metadata": {},
     "output_type": "execute_result"
    },
    {
     "data": {
      "image/png": "[encoded data removed]",
      "text/plain": [
       "<Figure size 1440x720 with 1 Axes>"
      ]
     },
     "metadata": {
      "needs_background": "light"
     },
     "output_type": "display_data"
    }
   ],
   "source": [
    "data.boxplot(\"Rating\", by=\"Year\", figsize=(20, 10))"
   ]
  },
  {
   "cell_type": "code",
   "execution_count": 59,
   "metadata": {},
   "outputs": [
    {
     "name": "stdout",
     "output_type": "stream",
     "text": [
      "ttest_ind_from_stats: t = -23.3465  p = 1.47919e-96\n",
      "formula:              t = -23.3465  p = 1.47919e-96\n"
     ]
    },
    {
     "ename": "NameError",
     "evalue": "name 'p' is not defined",
     "output_type": "error",
     "traceback": [
      "\u001b[1;31m---------------------------------------------------------------------------\u001b[0m",
      "\u001b[1;31mNameError\u001b[0m                                 Traceback (most recent call last)",
      "\u001b[1;32m<ipython-input-59-2a18a36b2a3e>\u001b[0m in \u001b[0;36m<module>\u001b[1;34m()\u001b[0m\n\u001b[0;32m     32\u001b[0m \u001b[1;33m\u001b[0m\u001b[0m\n\u001b[0;32m     33\u001b[0m \u001b[0mprint\u001b[0m\u001b[1;33m(\u001b[0m\u001b[1;34m\"formula:              t = %g  p = %g\"\u001b[0m \u001b[1;33m%\u001b[0m \u001b[1;33m(\u001b[0m\u001b[0mtf\u001b[0m\u001b[1;33m,\u001b[0m \u001b[0mpf\u001b[0m\u001b[1;33m)\u001b[0m\u001b[1;33m)\u001b[0m\u001b[1;33m\u001b[0m\u001b[0m\n\u001b[1;32m---> 34\u001b[1;33m \u001b[1;32mif\u001b[0m \u001b[0mp\u001b[0m \u001b[1;33m<\u001b[0m \u001b[1;36m0.05\u001b[0m\u001b[1;33m:\u001b[0m\u001b[1;33m\u001b[0m\u001b[0m\n\u001b[0m\u001b[0;32m     35\u001b[0m     \u001b[0mprint\u001b[0m\u001b[1;33m(\u001b[0m\u001b[1;34m\"significant affect\"\u001b[0m\u001b[1;33m)\u001b[0m\u001b[1;33m\u001b[0m\u001b[0m\n\u001b[0;32m     36\u001b[0m \u001b[1;32melse\u001b[0m\u001b[1;33m:\u001b[0m\u001b[1;33m\u001b[0m\u001b[0m\n",
      "\u001b[1;31mNameError\u001b[0m: name 'p' is not defined"
     ]
    }
   ],
   "source": [
    "#(t_stat, p) = ttest_ind(data['Rating'], data['Revenue (Millions)'], equal_var=False)\n",
    "\n",
    "#if p < 0.05:\n",
    "    #print(\"The differences between the high and low prices are significant.\")\n",
    "#else:\n",
    "   # print(\"The differences between high and low prices are due to chance.\")\n",
    " # Use scipy.stats.ttest_ind.\n",
    "#t, p = ttest_ind(data['Rating'], data['Revenue (Millions)'], equal_var=False)\n",
    "#print(\"ttest_ind:            t = %g  p = %g\" % (t, p))\n",
    "\n",
    "# Compute the descriptive statistics of a and b.\n",
    "abar = data['Rating'].mean()\n",
    "avar = data['Rating'].var(ddof=1)\n",
    "na = data['Rating'].size\n",
    "adof = na - 1\n",
    "\n",
    "bbar = data['Revenue (Millions)'].mean()\n",
    "bvar = data['Revenue (Millions)'].var(ddof=1)\n",
    "nb = data['Revenue (Millions)'].size\n",
    "bdof = nb - 1\n",
    "\n",
    "# Use scipy.stats.ttest_ind_from_stats.\n",
    "t2, p2 = ttest_ind_from_stats(abar, np.sqrt(avar), na,\n",
    "                              bbar, np.sqrt(bvar), nb,\n",
    "                              equal_var=False)\n",
    "print(\"ttest_ind_from_stats: t = %g  p = %g\" % (t2, p2))\n",
    "\n",
    "# Use the formulas directly.\n",
    "tf = (abar - bbar) / np.sqrt(avar/na + bvar/nb)\n",
    "dof = (avar/na + bvar/nb)**2 / (avar**2/(na**2*adof) + bvar**2/(nb**2*bdof))\n",
    "pf = 2*stdtr(dof, -np.abs(tf))\n",
    "\n",
    "print(\"formula:              t = %g  p = %g\" % (tf, pf))   \n",
    "if p < 0.05:\n",
    "    print(\"significant affect\")\n",
    "else:\n",
    "    print(\"no significant affect\")\n",
    " # Use scipy.stats.ttest_ind."
   ]
  },
  {
   "cell_type": "code",
   "execution_count": null,
   "metadata": {},
   "outputs": [],
   "source": [
    "data.boxplot(\"Votes\", by=\"Year\", figsize=(20, 10))"
   ]
  },
  {
   "cell_type": "code",
   "execution_count": null,
   "metadata": {},
   "outputs": [],
   "source": [
    "meta=data['Metascore']/10"
   ]
  },
  {
   "cell_type": "code",
   "execution_count": null,
   "metadata": {},
   "outputs": [],
   "source": [
    "abar = data['Rating'].mean()\n",
    "avar = data['Rating'].var(ddof=1)\n",
    "na = data['Rating'].size\n",
    "adof = na - 1\n",
    "\n",
    "bbar = meta.mean()\n",
    "bvar = meta.var(ddof=1)\n",
    "nb = meta.size\n",
    "bdof = nb - 1\n",
    "\n",
    "# Use scipy.stats.ttest_ind_from_stats.\n",
    "t2, p2 = ttest_ind_from_stats(abar, np.sqrt(avar), na,\n",
    "                              bbar, np.sqrt(bvar), nb,\n",
    "                              equal_var=False)\n",
    "print(\"ttest_ind_from_stats: t = %g  p = %g\" % (t2, p2))\n",
    "\n",
    "# Use the formulas directly.\n",
    "tf = (abar - bbar) / np.sqrt(avar/na + bvar/nb)\n",
    "dof = (avar/na + bvar/nb)**2 / (avar**2/(na**2*adof) + bvar**2/(nb**2*bdof))\n",
    "pf = 2*stdtr(dof, -np.abs(tf))\n",
    "\n",
    "print(\"formula:              t = %g  p = %g\" % (tf, pf))   \n",
    "if p < 0.05:\n",
    "    print(\"significant diffrence\")\n",
    "else:\n",
    "    print(\"no significant diffrence\")"
   ]
  },
  {
   "cell_type": "code",
   "execution_count": null,
   "metadata": {},
   "outputs": [],
   "source": [
    "sns.distplot(data['Rating'])"
   ]
  },
  {
   "cell_type": "code",
   "execution_count": null,
   "metadata": {},
   "outputs": [],
   "source": [
    "population1 = data['Rating']\n",
    "population2 = data['Metascore']\n",
    "\n",
    "    # Scatter Plot of Data\n",
    "    plt.subplot(2, 1, 1)\n",
    "    plt.scatter(range(len(population1)), population1, label=\"population1\")\n",
    "    plt.scatter(range(len(population2)), population2, label=\"population2\")\n",
    "    plt.legend()\n",
    "\n",
    "    # Histogram Plot of Data\n",
    "    plt.subplot(2, 1, 2)\n",
    "    plt.hist(population1, 10, density=True, alpha=0.7, label=\"population1\")\n",
    "    plt.hist(population2, 10, density=True, alpha=0.7, label=\"population2\")\n",
    "    plt.axvline(population1.mean(), color='k', linestyle='dashed', linewidth=1)\n",
    "    plt.axvline(population2.mean(), color='k', linestyle='dashed', linewidth=1)\n",
    "    plt.legend()  \n",
    "    \n",
    "    return population1, population2"
   ]
  },
  {
   "cell_type": "code",
   "execution_count": null,
   "metadata": {},
   "outputs": [],
   "source": [
    "#sns.distplot(data['Metascore'])\n",
    "\n",
    "df = data[np.isfinite(data['Metascore'])]\n",
    "#df\n",
    "sns.distplot(df['Metascore'])"
   ]
  },
  {
   "cell_type": "code",
   "execution_count": null,
   "metadata": {},
   "outputs": [],
   "source": [
    "bbar = meta.mean()\n",
    "abar = data['Rating'].mean()\n",
    "print(bbar)\n",
    "print(abar)"
   ]
  }
 ],
 "metadata": {
  "kernelspec": {
   "display_name": "Python 3",
   "language": "python",
   "name": "python3"
  },
  "language_info": {
   "codemirror_mode": {
    "name": "ipython",
    "version": 3
   },
   "file_extension": ".py",
   "mimetype": "text/x-python",
   "name": "python",
   "nbconvert_exporter": "python",
   "pygments_lexer": "ipython3",
   "version": "3.7.0"
  }
 },
 "nbformat": 4,
 "nbformat_minor": 2
}
